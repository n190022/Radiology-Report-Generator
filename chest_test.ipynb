{
 "cells": [
  {
   "cell_type": "code",
   "execution_count": 1,
   "id": "a5da5a0f",
   "metadata": {},
   "outputs": [],
   "source": [
    "# torch\n",
    "import torch\n",
    "import torch.nn as nn\n",
    "from torch.utils.data import Dataset, DataLoader\n",
    "import torchvision\n",
    "from torchvision.transforms import transforms\n",
    "import torch.optim as optim\n",
    "# utils\n",
    "import os\n",
    "from glob import glob\n",
    "from PIL import Image\n",
    "import numpy as np\n",
    "from sklearn.model_selection import train_test_split\n",
    "# visualization\n",
    "import matplotlib.pyplot as plt\n",
    "import seaborn as sns\n",
    "from sklearn.metrics import ConfusionMatrixDisplay, accuracy_score, confusion_matrix"
   ]
  },
  {
   "cell_type": "code",
   "execution_count": 3,
   "id": "af879363",
   "metadata": {},
   "outputs": [],
   "source": [
    "import torch\n",
    "import torch.nn as nn\n",
    "import torchvision.transforms as transforms\n",
    "from PIL import Image"
   ]
  },
  {
   "cell_type": "code",
   "execution_count": 4,
   "id": "165a9e33",
   "metadata": {},
   "outputs": [],
   "source": [
    "class MyModel(nn.Module):\n",
    "    def __init__(self, num_classes=3):\n",
    "        super(MyModel, self).__init__()\n",
    "        self.conv1 = nn.Conv2d(3, 32, kernel_size=4, stride=1, padding=0)\n",
    "        self.bn1 = nn.BatchNorm2d(32)\n",
    "        self.conv2 = nn.Conv2d(32, 64, kernel_size=4, stride=1, padding=0)\n",
    "        self.bn2 = nn.BatchNorm2d(64)\n",
    "        self.conv3 = nn.Conv2d(64, 128, kernel_size=4, stride=1, padding=0)\n",
    "        self.bn3 = nn.BatchNorm2d(128)\n",
    "        self.conv4 = nn.Conv2d(128, 128, kernel_size=4, stride=1, padding=0)\n",
    "        self.bn4 = nn.BatchNorm2d(128)\n",
    "        self.pool = nn.MaxPool2d(kernel_size=3, stride=3)\n",
    "        self.pool2 = nn.MaxPool2d(kernel_size=3, stride=2)\n",
    "        self.fc1 = nn.Linear(6*6*128, 512)\n",
    "        self.fc2 = nn.Linear(512, num_classes)\n",
    "        self.flatten = nn.Flatten()\n",
    "        self.relu = nn.ReLU()\n",
    "        self.dropout = nn.Dropout(0.5)\n",
    "\n",
    "    def forward(self, x):\n",
    "        x = self.relu(self.bn1(self.conv1(x)))\n",
    "        x = self.pool(x)\n",
    "        x = self.relu(self.bn2(self.conv2(x)))\n",
    "        x = self.pool(x)\n",
    "        x = self.relu(self.bn3(self.conv3(x)))\n",
    "        x = self.pool2(x)\n",
    "        x = self.relu(self.bn4(self.conv4(x)))\n",
    "        x = self.flatten(x)\n",
    "        x = self.relu(self.fc1(x))\n",
    "        x = self.dropout(x)\n",
    "        x = self.fc2(x)\n",
    "        return x\n"
   ]
  },
  {
   "cell_type": "code",
   "execution_count": 6,
   "id": "ccc88ba3",
   "metadata": {},
   "outputs": [
    {
     "name": "stderr",
     "output_type": "stream",
     "text": [
      "C:\\Users\\sangeetha\\AppData\\Local\\Temp\\ipykernel_9296\\1971593889.py:7: FutureWarning: You are using `torch.load` with `weights_only=False` (the current default value), which uses the default pickle module implicitly. It is possible to construct malicious pickle data which will execute arbitrary code during unpickling (See https://github.com/pytorch/pytorch/blob/main/SECURITY.md#untrusted-models for more details). In a future release, the default value for `weights_only` will be flipped to `True`. This limits the functions that could be executed during unpickling. Arbitrary objects will no longer be allowed to be loaded via this mode unless they are explicitly allowlisted by the user via `torch.serialization.add_safe_globals`. We recommend you start setting `weights_only=True` for any use case where you don't have full control of the loaded file. Please open an issue on GitHub for any issues related to this experimental feature.\n",
      "  model.load_state_dict(torch.load(\"C:\\\\Users\\\\sangeetha\\\\modelchest_19\"))  # Replace with the correct model file name\n"
     ]
    },
    {
     "data": {
      "text/plain": [
       "MyModel(\n",
       "  (conv1): Conv2d(3, 32, kernel_size=(4, 4), stride=(1, 1))\n",
       "  (bn1): BatchNorm2d(32, eps=1e-05, momentum=0.1, affine=True, track_running_stats=True)\n",
       "  (conv2): Conv2d(32, 64, kernel_size=(4, 4), stride=(1, 1))\n",
       "  (bn2): BatchNorm2d(64, eps=1e-05, momentum=0.1, affine=True, track_running_stats=True)\n",
       "  (conv3): Conv2d(64, 128, kernel_size=(4, 4), stride=(1, 1))\n",
       "  (bn3): BatchNorm2d(128, eps=1e-05, momentum=0.1, affine=True, track_running_stats=True)\n",
       "  (conv4): Conv2d(128, 128, kernel_size=(4, 4), stride=(1, 1))\n",
       "  (bn4): BatchNorm2d(128, eps=1e-05, momentum=0.1, affine=True, track_running_stats=True)\n",
       "  (pool): MaxPool2d(kernel_size=3, stride=3, padding=0, dilation=1, ceil_mode=False)\n",
       "  (pool2): MaxPool2d(kernel_size=3, stride=2, padding=0, dilation=1, ceil_mode=False)\n",
       "  (fc1): Linear(in_features=4608, out_features=512, bias=True)\n",
       "  (fc2): Linear(in_features=512, out_features=3, bias=True)\n",
       "  (flatten): Flatten(start_dim=1, end_dim=-1)\n",
       "  (relu): ReLU()\n",
       "  (dropout): Dropout(p=0.5, inplace=False)\n",
       ")"
      ]
     },
     "execution_count": 6,
     "metadata": {},
     "output_type": "execute_result"
    }
   ],
   "source": [
    "device = \"cuda\" if torch.cuda.is_available() else \"cpu\"\n",
    "\n",
    "#model_path = \"C:\\\\Users\\\\sangeetha\\\\model_16\"  # Change this to your actual model path\n",
    "# Set the model to evaluation mode\n",
    "num_classes=3\n",
    "model = MyModel(num_classes).to(device)\n",
    "model.load_state_dict(torch.load(\"C:\\\\Users\\\\sangeetha\\\\modelchest_19\"))  # Replace with the correct model file name\n",
    "model.eval()  # Set the model to evaluation mode\n"
   ]
  },
  {
   "cell_type": "code",
   "execution_count": 7,
   "id": "2a7f525a",
   "metadata": {},
   "outputs": [],
   "source": [
    "transform = transforms.Compose([\n",
    "    transforms.Resize((224, 224)),\n",
    "    transforms.ToTensor(),\n",
    "    transforms.Normalize(mean=[0.485, 0.456, 0.406], std=[0.229, 0.224, 0.225]),\n",
    "])\n",
    "\n",
    "def preprocess_image(image_path):\n",
    "    image = Image.open(image_path).convert(\"RGB\")  # Open and convert to RGB\n",
    "    image = transform(image).unsqueeze(0)  # Apply transformations and add batch dimension\n",
    "    return image.to(device)\n"
   ]
  },
  {
   "cell_type": "code",
   "execution_count": 8,
   "id": "f3d61530",
   "metadata": {},
   "outputs": [],
   "source": [
    "label_dict = {\n",
    "    \n",
    "    0:\"TUBERCULOSIS\",\n",
    "    1: \"NORMAL\",\n",
    "    2: \"PNEUMONIA\"\n",
    "   \n",
    "  \n",
    "}\n",
    "\n",
    "def predict(image_path):\n",
    "    image = preprocess_image(image_path)\n",
    "    with torch.no_grad():\n",
    "        outputs = model(image)\n",
    "        _, predicted = torch.max(outputs, 1)  # Get the predicted class index\n",
    "    return label_dict[predicted.item()]  # Return the class name\n"
   ]
  },
  {
   "cell_type": "code",
   "execution_count": 9,
   "id": "f38ce32d",
   "metadata": {},
   "outputs": [
    {
     "name": "stdout",
     "output_type": "stream",
     "text": [
      "Predicted  Type: TUBERCULOSIS\n"
     ]
    }
   ],
   "source": [
    "image_path = \"C:\\\\Users\\\\sangeetha\\\\1\\\\chest\\\\train\\\\TUBERCULOSIS\\\\266.png\"  # Change this to your test image path\n",
    "prediction = predict(image_path)\n",
    "print(f\"Predicted  Type: {prediction}\")"
   ]
  },
  {
   "cell_type": "code",
   "execution_count": 10,
   "id": "fb3782b0",
   "metadata": {},
   "outputs": [
    {
     "name": "stdout",
     "output_type": "stream",
     "text": [
      "Predicted  Type: PNEUMONIA\n"
     ]
    }
   ],
   "source": [
    "image_path = \"C:\\\\Users\\\\sangeetha\\\\1\\\\chest_xray\\\\val\\\\PNEUMONIA\\\\person1949_bacteria_4880.jpeg\"  # Change this to your test image path\n",
    "prediction = predict(image_path)\n",
    "print(f\"Predicted  Type: {prediction}\")"
   ]
  },
  {
   "cell_type": "code",
   "execution_count": 11,
   "id": "492023c5",
   "metadata": {},
   "outputs": [
    {
     "name": "stdout",
     "output_type": "stream",
     "text": [
      "Predicted  Type: NORMAL\n"
     ]
    }
   ],
   "source": [
    "image_path = \"C:\\\\Users\\\\sangeetha\\\\1\\\\TB_Chest_Radiography_Database\\\\Normal\\\\Normal-10.png \"  # Change this to your test image path\n",
    "prediction = predict(image_path)\n",
    "print(f\"Predicted  Type: {prediction}\")\n",
    "  "
   ]
  },
  {
   "cell_type": "code",
   "execution_count": 12,
   "id": "652d3155",
   "metadata": {},
   "outputs": [
    {
     "name": "stdout",
     "output_type": "stream",
     "text": [
      "Predicted  Type: TUBERCULOSIS\n"
     ]
    }
   ],
   "source": [
    "image_path = \"C:\\\\Users\\\\sangeetha\\\\1\\\\chest\\\\val\\\\TUBERCULOSIS\\\\Tuberculosis-186.png\"  # Change this to your test image path\n",
    "prediction = predict(image_path)\n",
    "print(f\"Predicted  Type: {prediction}\")\n"
   ]
  },
  {
   "cell_type": "code",
   "execution_count": 13,
   "id": "275be8d3",
   "metadata": {},
   "outputs": [
    {
     "name": "stdout",
     "output_type": "stream",
     "text": [
      "Predicted  Type: NORMAL\n"
     ]
    }
   ],
   "source": [
    "image_path = \"C:\\\\Users\\\\sangeetha\\\\1\\\\chest\\\\train\\\\NORMAL\\\\CHNCXR_0019_0.png\"  # Change this to your test image path\n",
    "prediction = predict(image_path)\n",
    "print(f\"Predicted  Type: {prediction}\")"
   ]
  },
  {
   "cell_type": "code",
   "execution_count": 14,
   "id": "fbc01b9e",
   "metadata": {},
   "outputs": [
    {
     "name": "stdout",
     "output_type": "stream",
     "text": [
      "Predicted  Type: PNEUMONIA\n"
     ]
    }
   ],
   "source": [
    "image_path = \"C:\\\\Users\\\\sangeetha\\\\1\\\\chest\\\\train\\\\PNEUMONIA\\\\person5_bacteria_16.jpeg\"  # Change this to your test image path\n",
    "prediction = predict(image_path)\n",
    "print(f\"Predicted  Type: {prediction}\")"
   ]
  },
  {
   "cell_type": "code",
   "execution_count": 15,
   "id": "4504acb5",
   "metadata": {},
   "outputs": [
    {
     "name": "stdout",
     "output_type": "stream",
     "text": [
      "Predicted  Type: TUBERCULOSIS\n"
     ]
    }
   ],
   "source": [
    " \n",
    "    \n",
    "image_path = \"C:\\\\Users\\\\sangeetha\\\\1\\\\TB_Chest_Radiography_Database\\\\Tuberculosis\\\\Tuberculosis-60.png \"  # Change this to your test image path\n",
    "prediction = predict(image_path)\n",
    "print(f\"Predicted  Type: {prediction}\")\n",
    "    \n",
    "    "
   ]
  },
  {
   "cell_type": "code",
   "execution_count": 16,
   "id": "ceebce2a",
   "metadata": {},
   "outputs": [
    {
     "name": "stdout",
     "output_type": "stream",
     "text": [
      "Predicted  Type: NORMAL\n"
     ]
    }
   ],
   "source": [
    "image_path = \"C:\\\\Users\\\\sangeetha\\\\1\\\\TB_Chest_Radiography_Database\\\\Normal\\\\Normal-10.png \"  # Change this to your test image path\n",
    "prediction = predict(image_path)\n",
    "print(f\"Predicted  Type: {prediction}\")\n",
    "  "
   ]
  },
  {
   "cell_type": "code",
   "execution_count": 17,
   "id": "627e9a6b",
   "metadata": {},
   "outputs": [
    {
     "name": "stdout",
     "output_type": "stream",
     "text": [
      "Predicted  Type: PNEUMONIA\n"
     ]
    }
   ],
   "source": [
    "image_path = \"C:\\\\Users\\\\sangeetha\\\\1\\\\chest_xray\\\\val\\\\PNEUMONIA\\\\person1949_bacteria_4880.jpeg\"  # Change this to your test image path\n",
    "prediction = predict(image_path)\n",
    "print(f\"Predicted  Type: {prediction}\")"
   ]
  },
  {
   "cell_type": "code",
   "execution_count": null,
   "id": "aa1c426b",
   "metadata": {},
   "outputs": [],
   "source": []
  }
 ],
 "metadata": {
  "kernelspec": {
   "display_name": "Python 3 (ipykernel)",
   "language": "python",
   "name": "python3"
  },
  "language_info": {
   "codemirror_mode": {
    "name": "ipython",
    "version": 3
   },
   "file_extension": ".py",
   "mimetype": "text/x-python",
   "name": "python",
   "nbconvert_exporter": "python",
   "pygments_lexer": "ipython3",
   "version": "3.11.5"
  }
 },
 "nbformat": 4,
 "nbformat_minor": 5
}
