{
 "cells": [
  {
   "cell_type": "code",
   "execution_count": 1,
   "id": "633e5bfa",
   "metadata": {},
   "outputs": [],
   "source": [
    "# torch\n",
    "import torch\n",
    "import torch.nn as nn\n",
    "from torch.utils.data import Dataset, DataLoader\n",
    "import torchvision\n",
    "from torchvision.transforms import transforms\n",
    "import torch.optim as optim\n",
    "# utils\n",
    "import os\n",
    "from glob import glob\n",
    "from PIL import Image\n",
    "import numpy as np\n",
    "from sklearn.model_selection import train_test_split\n",
    "# visualization\n",
    "import matplotlib.pyplot as plt\n",
    "import seaborn as sns\n",
    "from sklearn.metrics import ConfusionMatrixDisplay, accuracy_score, confusion_matrix"
   ]
  },
  {
   "cell_type": "code",
   "execution_count": 2,
   "id": "155bcd12",
   "metadata": {},
   "outputs": [],
   "source": [
    "import torch\n",
    "import torch.nn as nn\n",
    "import torchvision.transforms as transforms\n",
    "from PIL import Image"
   ]
  },
  {
   "cell_type": "code",
   "execution_count": 3,
   "id": "52c716eb",
   "metadata": {},
   "outputs": [],
   "source": [
    "class MyModel(nn.Module):\n",
    "    def __init__(self, num_classes=2):\n",
    "        super(MyModel, self).__init__()\n",
    "        self.conv1 = nn.Conv2d(3, 32, kernel_size=4, stride=1, padding=0)\n",
    "        self.bn1 = nn.BatchNorm2d(32)\n",
    "        self.conv2 = nn.Conv2d(32, 64, kernel_size=4, stride=1, padding=0)\n",
    "        self.bn2 = nn.BatchNorm2d(64)\n",
    "        self.conv3 = nn.Conv2d(64, 128, kernel_size=4, stride=1, padding=0)\n",
    "        self.bn3 = nn.BatchNorm2d(128)\n",
    "        self.conv4 = nn.Conv2d(128, 128, kernel_size=4, stride=1, padding=0)\n",
    "        self.bn4 = nn.BatchNorm2d(128)\n",
    "        self.pool = nn.MaxPool2d(kernel_size=3, stride=3)\n",
    "        self.pool2 = nn.MaxPool2d(kernel_size=3, stride=2)\n",
    "        self.fc1 = nn.Linear(6*6*128, 512)\n",
    "        self.fc2 = nn.Linear(512, num_classes)\n",
    "        self.flatten = nn.Flatten()\n",
    "        self.relu = nn.ReLU()\n",
    "        self.dropout = nn.Dropout(0.5)\n",
    "\n",
    "    def forward(self, x):\n",
    "        x = self.relu(self.bn1(self.conv1(x)))\n",
    "        x = self.pool(x)\n",
    "        x = self.relu(self.bn2(self.conv2(x)))\n",
    "        x = self.pool(x)\n",
    "        x = self.relu(self.bn3(self.conv3(x)))\n",
    "        x = self.pool2(x)\n",
    "        x = self.relu(self.bn4(self.conv4(x)))\n",
    "        x = self.flatten(x)\n",
    "        x = self.relu(self.fc1(x))\n",
    "        x = self.dropout(x)\n",
    "        x = self.fc2(x)\n",
    "        return x\n"
   ]
  },
  {
   "cell_type": "code",
   "execution_count": 4,
   "id": "f35e804f",
   "metadata": {},
   "outputs": [
    {
     "name": "stderr",
     "output_type": "stream",
     "text": [
      "C:\\Users\\sangeetha\\AppData\\Local\\Temp\\ipykernel_4200\\3310834324.py:7: FutureWarning: You are using `torch.load` with `weights_only=False` (the current default value), which uses the default pickle module implicitly. It is possible to construct malicious pickle data which will execute arbitrary code during unpickling (See https://github.com/pytorch/pytorch/blob/main/SECURITY.md#untrusted-models for more details). In a future release, the default value for `weights_only` will be flipped to `True`. This limits the functions that could be executed during unpickling. Arbitrary objects will no longer be allowed to be loaded via this mode unless they are explicitly allowlisted by the user via `torch.serialization.add_safe_globals`. We recommend you start setting `weights_only=True` for any use case where you don't have full control of the loaded file. Please open an issue on GitHub for any issues related to this experimental feature.\n",
      "  model.load_state_dict(torch.load(\"C:\\\\Users\\\\sangeetha\\\\bone_10\"))  # Replace with the correct model file name\n"
     ]
    },
    {
     "data": {
      "text/plain": [
       "MyModel(\n",
       "  (conv1): Conv2d(3, 32, kernel_size=(4, 4), stride=(1, 1))\n",
       "  (bn1): BatchNorm2d(32, eps=1e-05, momentum=0.1, affine=True, track_running_stats=True)\n",
       "  (conv2): Conv2d(32, 64, kernel_size=(4, 4), stride=(1, 1))\n",
       "  (bn2): BatchNorm2d(64, eps=1e-05, momentum=0.1, affine=True, track_running_stats=True)\n",
       "  (conv3): Conv2d(64, 128, kernel_size=(4, 4), stride=(1, 1))\n",
       "  (bn3): BatchNorm2d(128, eps=1e-05, momentum=0.1, affine=True, track_running_stats=True)\n",
       "  (conv4): Conv2d(128, 128, kernel_size=(4, 4), stride=(1, 1))\n",
       "  (bn4): BatchNorm2d(128, eps=1e-05, momentum=0.1, affine=True, track_running_stats=True)\n",
       "  (pool): MaxPool2d(kernel_size=3, stride=3, padding=0, dilation=1, ceil_mode=False)\n",
       "  (pool2): MaxPool2d(kernel_size=3, stride=2, padding=0, dilation=1, ceil_mode=False)\n",
       "  (fc1): Linear(in_features=4608, out_features=512, bias=True)\n",
       "  (fc2): Linear(in_features=512, out_features=2, bias=True)\n",
       "  (flatten): Flatten(start_dim=1, end_dim=-1)\n",
       "  (relu): ReLU()\n",
       "  (dropout): Dropout(p=0.5, inplace=False)\n",
       ")"
      ]
     },
     "execution_count": 4,
     "metadata": {},
     "output_type": "execute_result"
    }
   ],
   "source": [
    "device = \"cuda\" if torch.cuda.is_available() else \"cpu\"\n",
    "\n",
    "model_path = \"C:\\\\Users\\\\sangeetha\\\\bone_10\"  # Change this to your actual model path\n",
    "# Set the model to evaluation mode\n",
    "num_classes=2\n",
    "model = MyModel(num_classes).to(device)\n",
    "model.load_state_dict(torch.load(\"C:\\\\Users\\\\sangeetha\\\\bone_10\"))  # Replace with the correct model file name\n",
    "model.eval()  # Set the model to evaluation mode\n"
   ]
  },
  {
   "cell_type": "code",
   "execution_count": 5,
   "id": "2f5b734c",
   "metadata": {},
   "outputs": [],
   "source": [
    "transform = transforms.Compose([\n",
    "    transforms.Resize((224, 224)),\n",
    "    transforms.ToTensor(),\n",
    "    transforms.Normalize(mean=[0.485, 0.456, 0.406], std=[0.229, 0.224, 0.225]),\n",
    "])\n",
    "\n",
    "def preprocess_image(image_path):\n",
    "    image = Image.open(image_path).convert(\"RGB\")  # Open and convert to RGB\n",
    "    image = transform(image).unsqueeze(0)  # Apply transformations and add batch dimension\n",
    "    return image.to(device)\n"
   ]
  },
  {
   "cell_type": "code",
   "execution_count": 6,
   "id": "f924db80",
   "metadata": {},
   "outputs": [],
   "source": [
    "label_dict = {\n",
    "    \n",
    "    0:\"fractured\",\n",
    "    1: \"not fractured\",\n",
    "  \n",
    "  \n",
    "}\n",
    "\n",
    "def predict(image_path):\n",
    "    image = preprocess_image(image_path)\n",
    "    with torch.no_grad():\n",
    "        outputs = model(image)\n",
    "        _, predicted = torch.max(outputs, 1)  # Get the predicted class index\n",
    "    return label_dict[predicted.item()]  # Return the class name"
   ]
  },
  {
   "cell_type": "code",
   "execution_count": 7,
   "id": "d5d040a8",
   "metadata": {},
   "outputs": [
    {
     "name": "stdout",
     "output_type": "stream",
     "text": [
      "Predicted  Type: fractured\n"
     ]
    }
   ],
   "source": [
    "image_path = \"C:\\\\Users\\\\sangeetha\\\\1\\\\Bone_Fracture_Binary_Classification\\\\dataset\\\\Bone_Fracture_Binary_Classification\\\\test\\\\fractured\\\\2-rotated2-rotated3 - Copy.jpg\"  # Change this to your test image path\n",
    "prediction = predict(image_path)\n",
    "print(f\"Predicted  Type: {prediction}\")"
   ]
  },
  {
   "cell_type": "code",
   "execution_count": 8,
   "id": "4b75ac5d",
   "metadata": {},
   "outputs": [
    {
     "name": "stdout",
     "output_type": "stream",
     "text": [
      "Predicted  Type: not fractured\n"
     ]
    }
   ],
   "source": [
    "image_path = \"C:\\\\Users\\\\sangeetha\\\\1\\\\Bone_Fracture_Binary_Classification\\\\dataset\\\\Bone_Fracture_Binary_Classification\\\\test\\\\not fractured\\\\2.png\"  # Change this to your test image path\n",
    "prediction = predict(image_path)\n",
    "print(f\"Predicted  Type: {prediction}\")"
   ]
  },
  {
   "cell_type": "code",
   "execution_count": 9,
   "id": "f2f51f50",
   "metadata": {},
   "outputs": [
    {
     "name": "stdout",
     "output_type": "stream",
     "text": [
      "Predicted  Type: fractured\n"
     ]
    }
   ],
   "source": [
    "\n",
    "image_path = \"C:\\\\Users\\\\sangeetha\\\\1\\\\Bone_Fracture_Binary_Classification\\\\dataset\\\\Bone_Fracture_Binary_Classification\\\\val\\\\fractured\\\\2-rotated1-rotated2-rotated3.jpg\"  # Change this to your test image path\n",
    "prediction = predict(image_path)\n",
    "print(f\"Predicted  Type: {prediction}\")\n"
   ]
  },
  {
   "cell_type": "code",
   "execution_count": 10,
   "id": "afe4b2b0",
   "metadata": {},
   "outputs": [
    {
     "name": "stdout",
     "output_type": "stream",
     "text": [
      "Predicted  Type: not fractured\n"
     ]
    }
   ],
   "source": [
    "\n",
    "\n",
    "image_path = \"C:\\\\Users\\\\sangeetha\\\\1\\\\Bone_Fracture_Binary_Classification\\\\dataset\\\\Bone_Fracture_Binary_Classification\\\\val\\\\not fractured\\\\1-rotated3.jpg\"  # Change this to your test image path\n",
    "prediction = predict(image_path)\n",
    "print(f\"Predicted  Type: {prediction}\")"
   ]
  },
  {
   "cell_type": "code",
   "execution_count": 11,
   "id": "e6667452",
   "metadata": {},
   "outputs": [
    {
     "name": "stdout",
     "output_type": "stream",
     "text": [
      "Predicted  Type: fractured\n"
     ]
    }
   ],
   "source": [
    "image_path = \"Downloads\\\\OIP (4).jpg\"  # Change this to your test image path\n",
    "prediction = predict(image_path)\n",
    "print(f\"Predicted  Type: {prediction}\")"
   ]
  },
  {
   "cell_type": "code",
   "execution_count": 12,
   "id": "b1359ff3",
   "metadata": {},
   "outputs": [
    {
     "name": "stdout",
     "output_type": "stream",
     "text": [
      "Predicted  Type: fractured\n"
     ]
    }
   ],
   "source": [
    "image_path = \"Downloads\\\\OIP (5).jpg\"  # Change this to your test image path\n",
    "prediction = predict(image_path)\n",
    "print(f\"Predicted  Type: {prediction}\")"
   ]
  },
  {
   "cell_type": "code",
   "execution_count": 13,
   "id": "a7602856",
   "metadata": {},
   "outputs": [
    {
     "name": "stdout",
     "output_type": "stream",
     "text": [
      "Predicted  Type: fractured\n"
     ]
    }
   ],
   "source": [
    "image_path = \"Downloads\\\\4d83d807fe7af170aa25b936567aa7e4.jpg\"  # Change this to your test image path\n",
    "prediction = predict(image_path)\n",
    "print(f\"Predicted  Type: {prediction}\")"
   ]
  },
  {
   "cell_type": "code",
   "execution_count": 14,
   "id": "a429a3c3",
   "metadata": {},
   "outputs": [
    {
     "name": "stdout",
     "output_type": "stream",
     "text": [
      "Predicted  Type: fractured\n"
     ]
    }
   ],
   "source": [
    "image_path = \"Downloads\\\\OIP (6).jpg\"  # Change this to your test image path\n",
    "prediction = predict(image_path)\n",
    "print(f\"Predicted  Type: {prediction}\")"
   ]
  },
  {
   "cell_type": "code",
   "execution_count": null,
   "id": "49e0877c",
   "metadata": {},
   "outputs": [],
   "source": []
  },
  {
   "cell_type": "code",
   "execution_count": null,
   "id": "d7c48dfd",
   "metadata": {},
   "outputs": [],
   "source": []
  },
  {
   "cell_type": "code",
   "execution_count": null,
   "id": "c42f9b8b",
   "metadata": {},
   "outputs": [],
   "source": []
  },
  {
   "cell_type": "code",
   "execution_count": null,
   "id": "e60064e1",
   "metadata": {},
   "outputs": [],
   "source": []
  }
 ],
 "metadata": {
  "kernelspec": {
   "display_name": "Python 3 (ipykernel)",
   "language": "python",
   "name": "python3"
  },
  "language_info": {
   "codemirror_mode": {
    "name": "ipython",
    "version": 3
   },
   "file_extension": ".py",
   "mimetype": "text/x-python",
   "name": "python",
   "nbconvert_exporter": "python",
   "pygments_lexer": "ipython3",
   "version": "3.11.5"
  }
 },
 "nbformat": 4,
 "nbformat_minor": 5
}
